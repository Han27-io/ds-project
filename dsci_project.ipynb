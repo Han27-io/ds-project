{
 "cells": [
  {
   "cell_type": "markdown",
   "id": "82a097cf-1471-417f-960e-f0c3f9cd4513",
   "metadata": {},
   "source": [
    "## Data Science Final Project"
   ]
  },
  {
   "cell_type": "markdown",
   "id": "5c66d41d-0aa1-4c9a-a043-a8f6817705c0",
   "metadata": {},
   "source": [
    "**Group Members**:\n",
    "\n",
    "\n",
    "Han Nguyen     \n",
    "\n",
    "Vincent Nguyen\n",
    "\n",
    "Sanuli Weihena Gamage\n",
    "\n",
    "Huixin Zhang\n",
    "\n"
   ]
  },
  {
   "cell_type": "code",
   "execution_count": 2,
   "id": "e617eb74-4769-4695-896e-212ed790768e",
   "metadata": {},
   "outputs": [],
   "source": [
    "library(tidyverse)\n",
    "library(repr)\n",
    "library(tidymodels)\n",
    "library(cowplot)\n",
    "library(dplyr)\n",
    "options(repr.matrix.max.rows = 6)\n"
   ]
  },
  {
   "cell_type": "markdown",
   "id": "4f16e742-c600-483f-adf8-6de338d4a92e",
   "metadata": {},
   "source": [
    "**Data summary**\n",
    "\n",
    "There are 2 datasets that we will look at: `players.csv`  and `sessions.csv`\n",
    "\n",
    "players.csv : A list of all unique players, including data about each player. From this dataset with ~200 observations, there are 7 variables we can look at: \n",
    "\n",
    "`hashedEmail` `(chr)`: Unique identifier for players (hashed for privacy).\n",
    "\n",
    "`experience` `(chr)` = How experienced the player is.\n",
    "\n",
    "`subscribe` `(lgl)` = Whether this player subscribed to the newsletter.\n",
    "\n",
    "`played_hours`  `(dbl)` = Total time spent playing in hours.\n",
    "\n",
    "`name` `(chr)` = Name of the player.\n",
    "\n",
    "`gender` `(chr)` = Gender of the player.\n",
    "\n",
    "`age` `(dbl)` = Age of the player. \n",
    "\n",
    "\n",
    "sessions.csv : A list of individual play sessions by each player, including data about the session. From this dataset with 1000+ observations, there are 5 variables we can look at: \n",
    "\n",
    "`hashedEmail` `(chr)`: Unique identifier for players (hashed for privacy).\n",
    "\n",
    "`start_time` `(chr)`: Session start time in human-readable format.\n",
    "\n",
    "`end_time` `(chr)`: Session end time in human-readable format.\n",
    "\n",
    "`original_start_time` `(dbl)`: Session start time in Unix epoch time.\n",
    "\n",
    "`original_end_time` `(dbl)`: Session end time in Unix epoch time.\n",
    "\n"
   ]
  },
  {
   "cell_type": "code",
   "execution_count": null,
   "id": "8e9331d0-f55c-4c95-a06f-d09da85c72a6",
   "metadata": {},
   "outputs": [],
   "source": []
  }
 ],
 "metadata": {
  "kernelspec": {
   "display_name": "R",
   "language": "R",
   "name": "ir"
  },
  "language_info": {
   "codemirror_mode": "r",
   "file_extension": ".r",
   "mimetype": "text/x-r-source",
   "name": "R",
   "pygments_lexer": "r",
   "version": "4.3.3"
  }
 },
 "nbformat": 4,
 "nbformat_minor": 5
}
