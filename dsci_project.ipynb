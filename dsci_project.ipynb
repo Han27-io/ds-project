{
 "cells": [
  {
   "cell_type": "markdown",
   "id": "82a097cf-1471-417f-960e-f0c3f9cd4513",
   "metadata": {},
   "source": [
    "Data Science Final Project"
   ]
  },
  {
   "cell_type": "code",
   "execution_count": null,
   "id": "c3362fcf-6173-42e0-9f66-0db6d050edc8",
   "metadata": {},
   "outputs": [],
   "source": []
  }
 ],
 "metadata": {
  "kernelspec": {
   "display_name": "R",
   "language": "R",
   "name": "ir"
  },
  "language_info": {
   "codemirror_mode": "r",
   "file_extension": ".r",
   "mimetype": "text/x-r-source",
   "name": "R",
   "pygments_lexer": "r",
   "version": "4.3.3"
  }
 },
 "nbformat": 4,
 "nbformat_minor": 5
}
